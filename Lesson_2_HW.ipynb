{
 "cells": [
  {
   "cell_type": "markdown",
   "metadata": {},
   "source": [
    "### Урок 2. Масштабирование признаков. L1- и L2-регуляризация. Стохастический градиентный спуск"
   ]
  },
  {
   "cell_type": "markdown",
   "metadata": {},
   "source": [
    "#### 1. Сгенерировать датасет при помощи `sklearn.datasets.make_regression` и обучить линейную модель при помощи градиентного и стохастического градиентного спуска. Нанести среднеквадратичную ошибку для обоих методов на один график, сделать выводы о разнице скорости сходимости каждого из методов."
   ]
  },
  {
   "cell_type": "code",
   "execution_count": 125,
   "metadata": {},
   "outputs": [],
   "source": [
    "import numpy as np\n",
    "from sklearn.datasets import make_regression\n",
    "import matplotlib.pyplot as plt\n",
    "\n",
    "%matplotlib inline"
   ]
  },
  {
   "cell_type": "code",
   "execution_count": 126,
   "metadata": {},
   "outputs": [],
   "source": [
    "data,target = make_regression(1000,2)"
   ]
  },
  {
   "cell_type": "code",
   "execution_count": 127,
   "metadata": {
    "scrolled": false
   },
   "outputs": [
    {
     "data": {
      "image/png": "[encoded data removed]",
      "text/plain": [
       "<Figure size 432x288 with 1 Axes>"
      ]
     },
     "metadata": {
      "needs_background": "light"
     },
     "output_type": "display_data"
    }
   ],
   "source": [
    "plt.plot(data[:,0],target,'.')\n",
    "plt.show()"
   ]
  },
  {
   "cell_type": "code",
   "execution_count": 128,
   "metadata": {},
   "outputs": [],
   "source": [
    "# Получим средние значения и стандартное отклонение по столбцам\n",
    " \n",
    "means = np.mean(data, axis=0)\n",
    "stds = np.std(data, axis=0)\n",
    "# параметр axis указывается для вычисления значений по столбцам, а не по всему массиву\n",
    "#(см. документацию в разделе источников)\n",
    " \n",
    "# вычтем каждое значение признака из среднего и поделим на стандартное отклонение\n",
    "for i in range(data.shape[0]):\n",
    "    for j in range(data.shape[1]):\n",
    "        data[i][j] = (data[i][j] - means[j])/stds[j]"
   ]
  },
  {
   "cell_type": "code",
   "execution_count": 129,
   "metadata": {},
   "outputs": [],
   "source": [
    "# реализуем функцию, определяющую среднеквадратичную ошибку\n",
    "def mserror(X, w, y_pred):\n",
    "    y = X.dot(w)\n",
    "    return (sum((y - y_pred)**2)) / len(y)"
   ]
  },
  {
   "cell_type": "markdown",
   "metadata": {},
   "source": [
    "Градиентный спуск."
   ]
  },
  {
   "cell_type": "code",
   "execution_count": 130,
   "metadata": {},
   "outputs": [],
   "source": [
    "def GD(data, target, min_weight_dist=1e-5, max_iter=1e5):\n",
    "    np.random.seed(1234)\n",
    "    # инициализируем начальный вектор весов\n",
    "    w = np.zeros(data.shape[1])\n",
    "    # список векторов весов после каждой итерации\n",
    "    w_list = [w.copy()]\n",
    "    # список значений ошибок после каждой итерации\n",
    "    errors = [mserror(data,w,target)]\n",
    "    # зададим начальную разницу весов большим числом\n",
    "    weight_dist = np.inf\n",
    "    # счетчик итераций\n",
    "    iter_num = 0\n",
    "    eta = 0.05\n",
    "    # ход градиентного спуска\n",
    "   \n",
    "    while ( weight_dist > min_weight_dist) and (iter_num < max_iter):\n",
    "    # новый вес w\n",
    "        new_w = w - 2 * eta * np.dot(data.T, (np.dot(data, w) - target)) / target.shape[0]\n",
    "    # оценка рассояния по эвклиду между старым и новым состоянием w\n",
    "        weight_dist = np.linalg.norm(new_w - w, ord=2)\n",
    "    \n",
    "        w_list.append([iter_num]+new_w.copy().tolist())\n",
    "        errors.append(mserror(data, new_w, target))\n",
    "    \n",
    "        iter_num += 1\n",
    "        w = new_w\n",
    "                   \n",
    "\n",
    "    w_list = np.array(w_list)\n",
    "    error_list= np.array(errors)\n",
    "\n",
    "    print(f'В случае использования градиентного спуска функционал ошибки составляет {round(errors[-1], 4)}')\n",
    "    print(f'Кол-во итераций - {iter_num}')\n",
    "    print(f'Веса - {new_w}')\n",
    "    return w_list, error_list"
   ]
  },
  {
   "cell_type": "code",
   "execution_count": 131,
   "metadata": {},
   "outputs": [
    {
     "name": "stdout",
     "output_type": "stream",
     "text": [
      "В случае использования градиентного спуска функционал ошибки составляет 2.2161\n",
      "Кол-во итераций - 193\n",
      "Веса - [62.41686372 20.54814168]\n",
      "Wall time: 55.8 ms\n"
     ]
    },
    {
     "name": "stderr",
     "output_type": "stream",
     "text": [
      "<ipython-input-130-88b9b8e2e5cd>:29: VisibleDeprecationWarning: Creating an ndarray from ragged nested sequences (which is a list-or-tuple of lists-or-tuples-or ndarrays with different lengths or shapes) is deprecated. If you meant to do this, you must specify 'dtype=object' when creating the ndarray\n",
      "  w_list = np.array(w_list)\n"
     ]
    }
   ],
   "source": [
    "%%time\n",
    "w_gd, err_gd = GD(data, target, min_weight_dist=1e-8, max_iter=1e5)"
   ]
  },
  {
   "cell_type": "markdown",
   "metadata": {},
   "source": [
    "Cтохастический градиентный спуск."
   ]
  },
  {
   "cell_type": "code",
   "execution_count": 132,
   "metadata": {},
   "outputs": [],
   "source": [
    "def SGD(data, target, min_weight_dist=1e-5, max_iter=1e5):\n",
    "    # инициализируем начальный вектор весов\n",
    "    w = np.zeros(data.shape[1])\n",
    "    # список векторов весов после каждой итерации\n",
    "    w_list = [w.copy()]\n",
    "    # список значений ошибок после каждой итерации\n",
    "    errors = []\n",
    "    # шаг градиентного спуска\n",
    "    eta = 0.1 #0.5\n",
    "    # зададим начальную разницу весов большим числом\n",
    "    weight_dist = np.inf\n",
    "    # счетчик итераций\n",
    "    iter_num = 0\n",
    "    np.random.seed(1234)\n",
    "    # ход градиентного спуска\n",
    "    while weight_dist > min_weight_dist and iter_num < max_iter:\n",
    "\n",
    "        # генерируем случайный индекс объекта выборки\n",
    "        train_ind = np.random.randint(data.shape[0])\n",
    "\n",
    "        new_w = w - 2 * eta * (np.dot(data[train_ind].T, np.dot(data[train_ind], w) - target[train_ind])) / target.shape[0]\n",
    "\n",
    "        weight_dist = np.linalg.norm(new_w - w, ord=2)\n",
    "\n",
    "        w_list.append(new_w.copy())\n",
    "        errors.append(mserror(data, new_w, target))\n",
    "\n",
    "        iter_num += 1\n",
    "        w = new_w\n",
    "\n",
    "    w_list = np.array(w_list)\n",
    "\n",
    "    print(f'В случае использования стохастического градиентного спуска функционал ошибки составляет {round(errors[-1], 4)}')\n",
    "    print(f'Кол-во инераций - {iter_num}')\n",
    "    print(f'Веса - {new_w}')\n",
    "    return w_list, errors"
   ]
  },
  {
   "cell_type": "code",
   "execution_count": 133,
   "metadata": {},
   "outputs": [
    {
     "name": "stdout",
     "output_type": "stream",
     "text": [
      "В случае использования стохастического градиентного спуска функционал ошибки составляет 2.2165\n",
      "Кол-во инераций - 1000000\n",
      "Веса - [62.42695226 20.53321186]\n",
      "Wall time: 2min 49s\n"
     ]
    }
   ],
   "source": [
    "%%time\n",
    "w_sgd, err_sgd = SGD(data, target, min_weight_dist=1e-8, max_iter=1e6) #max_iter=1e8"
   ]
  },
  {
   "cell_type": "code",
   "execution_count": 134,
   "metadata": {},
   "outputs": [
    {
     "data": {
      "text/plain": [
       "(194, 1000000)"
      ]
     },
     "execution_count": 134,
     "metadata": {},
     "output_type": "execute_result"
    }
   ],
   "source": [
    "#Plot MSE\n",
    "len(err_gd), len(err_sgd)"
   ]
  },
  {
   "cell_type": "code",
   "execution_count": 135,
   "metadata": {},
   "outputs": [
    {
     "data": {
      "image/png": "[encoded data removed]",
      "text/plain": [
       "<Figure size 864x360 with 1 Axes>"
      ]
     },
     "metadata": {
      "needs_background": "light"
     },
     "output_type": "display_data"
    }
   ],
   "source": [
    "plt.figure(figsize=(12, 5))\n",
    "plt.title('Сравнения MSE')\n",
    "plt.xlabel(r'MSE')\n",
    "plt.ylabel(r'Интерации')\n",
    "\n",
    "n = min(len(err_gd), len(err_sgd), 100)\n",
    "plt.plot(err_gd[:n], c='b', label='GD');\n",
    "plt.plot(range(n), err_sgd[:n], c='g', label='SGD');\n",
    "plt.legend();"
   ]
  },
  {
   "cell_type": "markdown",
   "metadata": {},
   "source": [
    "В обоих случаях при приближении вектора весов к истинному, падает ошибка. Скорость ее падения для градиентного спуска выше и однородней, чем для стохастического градиентного спуска."
   ]
  },
  {
   "cell_type": "markdown",
   "metadata": {},
   "source": [
    "#### 2. Модифицировать решение первого задания путем добавления $L_{2}$-регуляризации (в функцию, считающую MSE добавить норму весов, а в поправку нужно добавить производную для нормы вектора весов по весам) и сравнить результаты."
   ]
  },
  {
   "cell_type": "code",
   "execution_count": 137,
   "metadata": {},
   "outputs": [],
   "source": [
    "def GD_2(data, target, min_weight_dist=1e-5, max_iter=1e5, l1 =0, l2 =0):\n",
    "    np.random.seed(1234)\n",
    "    # инициализируем начальный вектор весов\n",
    "    w = np.zeros(data.shape[1])\n",
    "    # список векторов весов после каждой итерации\n",
    "    w_list = [w.copy()]\n",
    "    # список значений ошибок после каждой итерации\n",
    "    errors = [mserror(data,w,target)]\n",
    "    # зададим начальную разницу весов большим числом\n",
    "    weight_dist = np.inf\n",
    "    # счетчик итераций\n",
    "    iter_num = 0\n",
    "    eta = 0.05\n",
    "    # ход градиентного спуска\n",
    "   \n",
    "    while ( weight_dist > min_weight_dist) and (iter_num < max_iter):\n",
    "    # новый вес w\n",
    "        new_w = w - 2 * eta * (np.dot(data.T, (np.dot(data, w) - target)) / target.shape[0] + l1 * np.sign(w) + 2 * l2 * w)\n",
    "    # оценка рассояния по эвклиду между старым и новым состоянием w\n",
    "        weight_dist = np.linalg.norm(new_w - w, ord=2)\n",
    "    \n",
    "        w_list.append([iter_num]+new_w.copy().tolist())\n",
    "        errors.append(mserror(data, new_w, target))\n",
    "    \n",
    "        iter_num += 1\n",
    "        w = new_w\n",
    "                   \n",
    "\n",
    "    w_list = np.array(w_list)\n",
    "    error_list= np.array(errors)\n",
    "\n",
    "    print(f'В случае использования градиентного спуска c 𝐿2 -регуляризацией функционал ошибки составляет {round(errors[-1], 4)}')\n",
    "    print(f'Кол-во итераций - {iter_num}')\n",
    "    print(f'Веса - {new_w}')\n",
    "    return w_list, error_list"
   ]
  },
  {
   "cell_type": "code",
   "execution_count": 138,
   "metadata": {},
   "outputs": [
    {
     "name": "stdout",
     "output_type": "stream",
     "text": [
      "В случае использования градиентного спуска c 𝐿2 -регуляризацией функционал ошибки составляет 2.2161\n",
      "Кол-во итераций - 193\n",
      "Веса - [62.41686247 20.54814129]\n",
      "Wall time: 53.5 ms\n"
     ]
    },
    {
     "name": "stderr",
     "output_type": "stream",
     "text": [
      "<ipython-input-137-c817a63526c0>:29: VisibleDeprecationWarning: Creating an ndarray from ragged nested sequences (which is a list-or-tuple of lists-or-tuples-or ndarrays with different lengths or shapes) is deprecated. If you meant to do this, you must specify 'dtype=object' when creating the ndarray\n",
      "  w_list = np.array(w_list)\n"
     ]
    }
   ],
   "source": [
    "%%time\n",
    "w_gd_2, err_gd_2 = GD_2(data, target, min_weight_dist=1e-8, max_iter=1e5, l1=1e-8, l2=1e-8)"
   ]
  },
  {
   "cell_type": "code",
   "execution_count": 139,
   "metadata": {},
   "outputs": [],
   "source": [
    "def SGD_2(data, target, min_weight_dist=1e-5, max_iter=1e5, l1 =0, l2 =0):\n",
    "    # инициализируем начальный вектор весов\n",
    "    w = np.zeros(data.shape[1])\n",
    "    # список векторов весов после каждой итерации\n",
    "    w_list = [w.copy()]\n",
    "    # список значений ошибок после каждой итерации\n",
    "    errors = []\n",
    "    # шаг градиентного спуска\n",
    "    eta = 0.5\n",
    "    # зададим начальную разницу весов большим числом\n",
    "    weight_dist = np.inf\n",
    "    # счетчик итераций\n",
    "    iter_num = 0\n",
    "    np.random.seed(1234)\n",
    "    # ход градиентного спуска\n",
    "    while weight_dist > min_weight_dist and iter_num < max_iter:\n",
    "\n",
    "        # генерируем случайный индекс объекта выборки\n",
    "        train_ind = np.random.randint(data.shape[0])\n",
    "\n",
    "        new_w = w - 2 * eta * (np.dot(data[train_ind].T, np.dot(data[train_ind], w) - target[train_ind])) / target.shape[0]\n",
    "\n",
    "        weight_dist = np.linalg.norm(new_w - w, ord=2)\n",
    "\n",
    "        w_list.append(new_w.copy())\n",
    "        errors.append(mserror(data, new_w, target))\n",
    "\n",
    "        iter_num += 1\n",
    "        w = new_w\n",
    "\n",
    "    w_list = np.array(w_list)\n",
    "\n",
    "    print(f'В случае использования стохастического градиентного спуска функционал ошибки составляет {round(errors[-1], 4)}')\n",
    "    print(f'Кол-во инераций - {iter_num}')\n",
    "    print(f'Веса - {new_w}')\n",
    "    return w_list, errors"
   ]
  },
  {
   "cell_type": "code",
   "execution_count": 141,
   "metadata": {},
   "outputs": [
    {
     "name": "stdout",
     "output_type": "stream",
     "text": [
      "В случае использования стохастического градиентного спуска функционал ошибки составляет 312.2252\n",
      "Кол-во инераций - 1304\n",
      "Веса - [45.74537072 15.23972755]\n",
      "Wall time: 226 ms\n"
     ]
    }
   ],
   "source": [
    "%%time\n",
    "w_sgd_2, err_sgd_2 = SGD_2(data, target, min_weight_dist=1e-8, max_iter=1e6, l1=1e-8, l2=1e-8)"
   ]
  },
  {
   "cell_type": "code",
   "execution_count": 142,
   "metadata": {},
   "outputs": [
    {
     "data": {
      "image/png": "[encoded data removed]",
      "text/plain": [
       "<Figure size 864x360 with 1 Axes>"
      ]
     },
     "metadata": {
      "needs_background": "light"
     },
     "output_type": "display_data"
    }
   ],
   "source": [
    "plt.figure(figsize=(12, 5))\n",
    "plt.title('Сравнения MSE')\n",
    "plt.xlabel(r'MSE')\n",
    "plt.ylabel(r'Интерации')\n",
    "\n",
    "n = min(len(err_gd_2), len(err_sgd_2), 100)\n",
    "plt.plot(err_gd_2[:n], c='b', label='GD');\n",
    "plt.plot(range(n), err_sgd_2[:n], c='g', label='SGD');\n",
    "plt.legend();"
   ]
  },
  {
   "cell_type": "code",
   "execution_count": null,
   "metadata": {},
   "outputs": [],
   "source": []
  }
 ],
 "metadata": {
  "kernelspec": {
   "display_name": "Python 3",
   "language": "python",
   "name": "python3"
  },
  "language_info": {
   "codemirror_mode": {
    "name": "ipython",
    "version": 3
   },
   "file_extension": ".py",
   "mimetype": "text/x-python",
   "name": "python",
   "nbconvert_exporter": "python",
   "pygments_lexer": "ipython3",
   "version": "3.8.5"
  }
 },
 "nbformat": 4,
 "nbformat_minor": 4
}
