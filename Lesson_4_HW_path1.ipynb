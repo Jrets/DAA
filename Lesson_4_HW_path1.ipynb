{
 "cells": [
  {
   "cell_type": "markdown",
   "metadata": {},
   "source": [
    "## Урок 4. Алгоритм построения дерева решений"
   ]
  },
  {
   "cell_type": "code",
   "execution_count": 3,
   "metadata": {},
   "outputs": [],
   "source": [
    "import matplotlib.pyplot as plt\n",
    "%matplotlib inline\n",
    "import random\n",
    "\n",
    "from matplotlib.colors import ListedColormap\n",
    "from sklearn import datasets\n",
    "\n",
    "import numpy as np"
   ]
  },
  {
   "cell_type": "markdown",
   "metadata": {},
   "source": [
    "### В коде из методички реализуйте один или несколько из критериев останова (количество листьев, количество используемых признаков, глубина дерева и т.д.)"
   ]
  },
  {
   "cell_type": "code",
   "execution_count": 4,
   "metadata": {},
   "outputs": [],
   "source": [
    "# сгенерируем данные\n",
    "classification_data, classification_labels = datasets.make_classification(n_features = 5, n_informative = 2, \n",
    "                                                      n_classes = 2, n_redundant=0, \n",
    "                                                      n_clusters_per_class=1, random_state=5)"
   ]
  },
  {
   "cell_type": "code",
   "execution_count": 5,
   "metadata": {},
   "outputs": [
    {
     "data": {
      "image/png": "[encoded data removed]",
      "text/plain": [
       "<Figure size 576x576 with 1 Axes>"
      ]
     },
     "metadata": {
      "needs_background": "light"
     },
     "output_type": "display_data"
    }
   ],
   "source": [
    "# визуализируем сгенерированные данные\n",
    "\n",
    "colors = ListedColormap(['red', 'blue'])\n",
    "light_colors = ListedColormap(['lightcoral', 'lightblue'])\n",
    "\n",
    "plt.figure(figsize=(8,8))\n",
    "plt.scatter(list(map(lambda x: x[0], classification_data)), list(map(lambda x: x[1], classification_data)), \n",
    "              c=classification_labels, cmap=colors)\n",
    "plt.show()"
   ]
  },
  {
   "cell_type": "code",
   "execution_count": 6,
   "metadata": {},
   "outputs": [],
   "source": [
    "# Реализуем класс узла\n",
    "\n",
    "class Node:\n",
    "    \n",
    "    def __init__(self, index, t, true_branch, false_branch):\n",
    "        self.index = index  # индекс признака, по которому ведется сравнение с порогом в этом узле\n",
    "        self.t = t  # значение порога\n",
    "        self.true_branch = true_branch  # поддерево, удовлетворяющее условию в узле\n",
    "        self.false_branch = false_branch  # поддерево, не удовлетворяющее условию в узле"
   ]
  },
  {
   "cell_type": "code",
   "execution_count": 7,
   "metadata": {},
   "outputs": [],
   "source": [
    "# И класс терминального узла (листа)\n",
    "\n",
    "class Leaf:\n",
    "    \n",
    "    def __init__(self, data, labels):\n",
    "        self.data = data # значения признаков\n",
    "        self.labels = labels  # y_true\n",
    "        self.prediction = self.predict()  # y_pred\n",
    "        \n",
    "    def predict(self):\n",
    "        # подсчет количества объектов разных классов\n",
    "        classes = {}  # сформируем словарь \"класс: количество объектов\"\n",
    "        for label in self.labels:\n",
    "            if label not in classes:\n",
    "                classes[label] = 0\n",
    "            classes[label] += 1\n",
    "        #  найдем класс, количество объектов которого будет максимальным в этом листе и вернем его   \n",
    "        prediction = max(classes, key=classes.get)\n",
    "        return prediction"
   ]
  },
  {
   "cell_type": "code",
   "execution_count": 8,
   "metadata": {},
   "outputs": [],
   "source": [
    "# Расчет критерия Джини\n",
    "\n",
    "def gini(labels):\n",
    "    #  подсчет количества объектов разных классов\n",
    "    classes = {}\n",
    "    for label in labels:\n",
    "        if label not in classes:\n",
    "            classes[label] = 0\n",
    "        classes[label] += 1\n",
    "    \n",
    "    #  расчет критерия\n",
    "    impurity = 1     # \"impurity\" - \"нечистота\", степень неопределенности\n",
    "    for label in classes:\n",
    "        p = classes[label] / len(labels) # долю объектов класса в листе\n",
    "        impurity -= p ** 2 # Критерий Джини\n",
    "        \n",
    "    return impurity"
   ]
  },
  {
   "cell_type": "code",
   "execution_count": 9,
   "metadata": {},
   "outputs": [],
   "source": [
    "# Расчет качества\n",
    "\n",
    "def quality(left_labels, right_labels, current_gini):\n",
    "\n",
    "    # доля выборки, ушедшей в левое поддерево\n",
    "    p = float(left_labels.shape[0]) / (left_labels.shape[0] + right_labels.shape[0]) # для правого (1-p)\n",
    "    \n",
    "    return current_gini - p * gini(left_labels) - (1 - p) * gini(right_labels) # Функционал качества"
   ]
  },
  {
   "cell_type": "code",
   "execution_count": 10,
   "metadata": {},
   "outputs": [],
   "source": [
    "# Разбиение датасета в узле\n",
    "\n",
    "def split(data, labels, index, t):\n",
    "    \n",
    "    left = np.where(data[:, index] <= t)\n",
    "    right = np.where(data[:, index] > t)\n",
    "        \n",
    "    true_data = data[left]\n",
    "    false_data = data[right]\n",
    "    true_labels = labels[left]\n",
    "    false_labels = labels[right]\n",
    "        \n",
    "    return true_data, false_data, true_labels, false_labels"
   ]
  },
  {
   "cell_type": "code",
   "execution_count": 11,
   "metadata": {},
   "outputs": [],
   "source": [
    "# Нахождение наилучшего разбиения\n",
    "\n",
    "def find_best_split(data, labels, num_features, min_leaf):\n",
    "    \n",
    "    #  обозначим минимальное количество объектов в узле\n",
    "    #min_leaf = 5\n",
    "\n",
    "    current_gini = gini(labels) \n",
    "\n",
    "    best_quality = 0\n",
    "    best_t = None # лучший порог разбиения\n",
    "    best_index = None # лучший индекс разбиения\n",
    "    \n",
    "    #n_features = data.shape[1] # кол-во признаков\n",
    "    if num_features > data.shape[1]:\n",
    "        num_features = data.shape[1]\n",
    "    \n",
    "    for index in range(num_features): # проход по всем признакам\n",
    "        t_values = [row[index] for row in data] # берем столбец/признак с соотв. индексом\n",
    "        \n",
    "        for t in t_values: # проход по признаку\n",
    "            true_data, false_data, true_labels, false_labels = split(data, labels, index, t) # делаем разбиение\n",
    "            #  пропускаем разбиения, в которых в узле остается менее 5 объектов\n",
    "            if len(true_data) < min_leaf or len(false_data) < min_leaf:\n",
    "                continue # начинаем следующий проход цикла, минуя оставшееся тело цикла\n",
    "            \n",
    "            # расчет качества текущего разбиения\n",
    "            current_quality = quality(true_labels, false_labels, current_gini)\n",
    "            \n",
    "            #  выбираем порог, на котором получается максимальный прирост качества\n",
    "            if current_quality > best_quality:\n",
    "                best_quality, best_t, best_index = current_quality, t, index\n",
    "\n",
    "    return best_quality, best_t, best_index"
   ]
  },
  {
   "cell_type": "code",
   "execution_count": 12,
   "metadata": {},
   "outputs": [],
   "source": [
    "# Построение дерева с помощью рекурсивной функции\n",
    "\n",
    "#def build_tree(data, labels):\n",
    "def build_tree(data, labels, num_features, min_leaf):\n",
    "    \n",
    "    quality, t, index = find_best_split(data, labels, num_features, min_leaf) # ищем лучшее разбиение\n",
    "#     print(quality, t, index)\n",
    "\n",
    "    #  Базовый случай - прекращаем рекурсию, когда нет прироста в качества\n",
    "    # неопределенность после разбиения осталась такой же как до\n",
    "    if quality == 0: # критерий останова\n",
    "#         print('leaf')\n",
    "        return Leaf(data, labels) # считаем прогноз для листьев\n",
    "\n",
    "    # если качество улучшилось, то делим дерево по лучшему разбиению\n",
    "    true_data, false_data, true_labels, false_labels = split(data, labels, index, t)\n",
    "\n",
    "    # Рекурсивно строим два поддерева\n",
    "    true_branch = build_tree(true_data, true_labels, num_features, min_leaf)\n",
    "    false_branch = build_tree(false_data, false_labels, num_features, min_leaf)\n",
    "\n",
    "    # Возвращаем класс узла со всеми поддеревьями, то есть целого дерева\n",
    "    return Node(index, t, true_branch, false_branch)"
   ]
  },
  {
   "cell_type": "code",
   "execution_count": 13,
   "metadata": {},
   "outputs": [],
   "source": [
    "# Проход объекта по дереву для его классификации\n",
    "\n",
    "def classify_object(obj, node):\n",
    "\n",
    "    #  Останавливаем рекурсию, если достигли листа\n",
    "    if isinstance(node, Leaf): # проверка текущий узел это лист?\n",
    "        answer = node.prediction # считаем прогноз для листа\n",
    "        return answer\n",
    "\n",
    "    if obj[node.index] <= node.t: # если значение признака меньше порога t\n",
    "        return classify_object(obj, node.true_branch) # рекурсия: отправляем объект в true-ветку\n",
    "    else:\n",
    "        return classify_object(obj, node.false_branch) # рекурсия: отправляем объект в false-ветку"
   ]
  },
  {
   "cell_type": "code",
   "execution_count": 14,
   "metadata": {},
   "outputs": [],
   "source": [
    "# Предсказание деревом для всего датасета\n",
    "\n",
    "def predict(data, tree):\n",
    "    \n",
    "    classes = []\n",
    "    for obj in data:\n",
    "        prediction = classify_object(obj, tree) # определяем ветки для объектов\n",
    "        classes.append(prediction)\n",
    "    return classes"
   ]
  },
  {
   "cell_type": "code",
   "execution_count": 15,
   "metadata": {},
   "outputs": [],
   "source": [
    "# Разобьем выборку на обучающую и тестовую\n",
    "\n",
    "from sklearn import model_selection\n",
    "\n",
    "train_data, test_data, train_labels, test_labels = model_selection.train_test_split(classification_data, \n",
    "                                                                                     classification_labels, \n",
    "                                                                                     test_size = 0.3,\n",
    "                                                                                     random_state = 1)"
   ]
  },
  {
   "cell_type": "code",
   "execution_count": 16,
   "metadata": {},
   "outputs": [],
   "source": [
    "# Введем функцию подсчета точности как доли правильных ответов\n",
    "def accuracy_metric(actual, predicted):\n",
    "    correct = 0\n",
    "    for i in range(len(actual)):\n",
    "        if actual[i] == predicted[i]:\n",
    "            correct += 1\n",
    "    return correct / float(len(actual)) * 100.0"
   ]
  },
  {
   "cell_type": "code",
   "execution_count": 17,
   "metadata": {},
   "outputs": [],
   "source": [
    "def get_analyze(n_features, min_leaf, train_data=train_data,test_data=test_data,\n",
    "              train_labels=train_labels,test_labels=test_labels):\n",
    "    tree = build_tree(train_data, train_labels, n_features, min_leaf)\n",
    "    train_res = predict(train_data, tree)\n",
    "    test_res = predict(test_data, tree)\n",
    "    train_acc = accuracy_metric(train_labels, train_res)\n",
    "    test_acc = accuracy_metric(test_labels, test_res)\n",
    "    print(f'Кол.признаков: {n_features}, Мин. листов: {min_leaf}')\n",
    "    print(f'Точность не трейне: {train_acc:.3f}, на тесте: {test_acc:.3f}')"
   ]
  },
  {
   "cell_type": "code",
   "execution_count": 18,
   "metadata": {},
   "outputs": [
    {
     "name": "stdout",
     "output_type": "stream",
     "text": [
      "Кол.признаков: 2, Мин. листов: 6\n",
      "Точность не трейне: 82.857, на тесте: 53.333\n",
      "\n",
      "Кол.признаков: 2, Мин. листов: 7\n",
      "Точность не трейне: 81.429, на тесте: 60.000\n",
      "\n",
      "Кол.признаков: 2, Мин. листов: 10\n",
      "Точность не трейне: 80.000, на тесте: 56.667\n",
      "\n",
      "Кол.признаков: 2, Мин. листов: 11\n",
      "Точность не трейне: 71.429, на тесте: 46.667\n",
      "\n",
      "Кол.признаков: 2, Мин. листов: 12\n",
      "Точность не трейне: 70.000, на тесте: 66.667\n",
      "\n",
      "Кол.признаков: 2, Мин. листов: 15\n",
      "Точность не трейне: 68.571, на тесте: 63.333\n",
      "\n",
      "Кол.признаков: 2, Мин. листов: 17\n",
      "Точность не трейне: 68.571, на тесте: 60.000\n",
      "\n",
      "Кол.признаков: 2, Мин. листов: 20\n",
      "Точность не трейне: 64.286, на тесте: 53.333\n",
      "\n",
      "Кол.признаков: 3, Мин. листов: 6\n",
      "Точность не трейне: 82.857, на тесте: 53.333\n",
      "\n",
      "Кол.признаков: 3, Мин. листов: 7\n",
      "Точность не трейне: 81.429, на тесте: 60.000\n",
      "\n",
      "Кол.признаков: 3, Мин. листов: 10\n",
      "Точность не трейне: 80.000, на тесте: 56.667\n",
      "\n",
      "Кол.признаков: 3, Мин. листов: 11\n",
      "Точность не трейне: 71.429, на тесте: 46.667\n",
      "\n",
      "Кол.признаков: 3, Мин. листов: 12\n",
      "Точность не трейне: 72.857, на тесте: 63.333\n",
      "\n",
      "Кол.признаков: 3, Мин. листов: 15\n",
      "Точность не трейне: 68.571, на тесте: 63.333\n",
      "\n",
      "Кол.признаков: 3, Мин. листов: 17\n",
      "Точность не трейне: 68.571, на тесте: 60.000\n",
      "\n",
      "Кол.признаков: 3, Мин. листов: 20\n",
      "Точность не трейне: 64.286, на тесте: 53.333\n",
      "\n",
      "Кол.признаков: 4, Мин. листов: 6\n",
      "Точность не трейне: 82.857, на тесте: 53.333\n",
      "\n",
      "Кол.признаков: 4, Мин. листов: 7\n",
      "Точность не трейне: 81.429, на тесте: 60.000\n",
      "\n",
      "Кол.признаков: 4, Мин. листов: 10\n",
      "Точность не трейне: 80.000, на тесте: 56.667\n",
      "\n",
      "Кол.признаков: 4, Мин. листов: 11\n",
      "Точность не трейне: 71.429, на тесте: 46.667\n",
      "\n",
      "Кол.признаков: 4, Мин. листов: 12\n",
      "Точность не трейне: 72.857, на тесте: 63.333\n",
      "\n",
      "Кол.признаков: 4, Мин. листов: 15\n",
      "Точность не трейне: 68.571, на тесте: 63.333\n",
      "\n",
      "Кол.признаков: 4, Мин. листов: 17\n",
      "Точность не трейне: 68.571, на тесте: 60.000\n",
      "\n",
      "Кол.признаков: 4, Мин. листов: 20\n",
      "Точность не трейне: 64.286, на тесте: 53.333\n",
      "\n",
      "Кол.признаков: 5, Мин. листов: 6\n",
      "Точность не трейне: 98.571, на тесте: 96.667\n",
      "\n",
      "Кол.признаков: 5, Мин. листов: 7\n",
      "Точность не трейне: 92.857, на тесте: 96.667\n",
      "\n",
      "Кол.признаков: 5, Мин. листов: 10\n",
      "Точность не трейне: 92.857, на тесте: 96.667\n",
      "\n",
      "Кол.признаков: 5, Мин. листов: 11\n",
      "Точность не трейне: 92.857, на тесте: 96.667\n",
      "\n",
      "Кол.признаков: 5, Мин. листов: 12\n",
      "Точность не трейне: 92.857, на тесте: 96.667\n",
      "\n",
      "Кол.признаков: 5, Мин. листов: 15\n",
      "Точность не трейне: 92.857, на тесте: 96.667\n",
      "\n",
      "Кол.признаков: 5, Мин. листов: 17\n",
      "Точность не трейне: 92.857, на тесте: 96.667\n",
      "\n",
      "Кол.признаков: 5, Мин. листов: 20\n",
      "Точность не трейне: 92.857, на тесте: 96.667\n",
      "\n"
     ]
    }
   ],
   "source": [
    "for i in range(2,6):\n",
    "    for j in (6, 7, 10, 11, 12, 15, 17, 20):\n",
    "        get_analyze(i, j)\n",
    "        print()"
   ]
  },
  {
   "cell_type": "markdown",
   "metadata": {},
   "source": [
    "Увеличение количества признаков положительно влияет на обучение модели: растет качество на тестовой выборке и практически не изменяется обучающей. Можно сделать вывод, что степень переобучения падает с увеличением количества признаков. Минимальное количество листьев нуждается в подборе, т.к. его недостаток ведет к недообучению, а избыток к переобучению."
   ]
  },
  {
   "cell_type": "code",
   "execution_count": null,
   "metadata": {},
   "outputs": [],
   "source": []
  }
 ],
 "metadata": {
  "kernelspec": {
   "display_name": "Python 3",
   "language": "python",
   "name": "python3"
  },
  "language_info": {
   "codemirror_mode": {
    "name": "ipython",
    "version": 3
   },
   "file_extension": ".py",
   "mimetype": "text/x-python",
   "name": "python",
   "nbconvert_exporter": "python",
   "pygments_lexer": "ipython3",
   "version": "3.8.5"
  }
 },
 "nbformat": 4,
 "nbformat_minor": 4
}
